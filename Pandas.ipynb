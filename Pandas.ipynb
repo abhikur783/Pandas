{
 "cells": [
  {
   "cell_type": "code",
   "execution_count": null,
   "id": "d494a0e9",
   "metadata": {},
   "outputs": [],
   "source": [
    "Q1. Create a Pandas Series that contains the following data: 4, 8, 15, 16, 23, and 42. Then, print the series."
   ]
  },
  {
   "cell_type": "code",
   "execution_count": 1,
   "id": "5dc55fc2",
   "metadata": {},
   "outputs": [],
   "source": [
    "import pandas as pd"
   ]
  },
  {
   "cell_type": "code",
   "execution_count": 2,
   "id": "40d15b2a",
   "metadata": {},
   "outputs": [
    {
     "data": {
      "text/plain": [
       "0     4\n",
       "1     8\n",
       "2    15\n",
       "3    16\n",
       "4    23\n",
       "5    42\n",
       "dtype: int64"
      ]
     },
     "execution_count": 2,
     "metadata": {},
     "output_type": "execute_result"
    }
   ],
   "source": [
    "pd.Series([4,8,15,16,23,42])"
   ]
  },
  {
   "cell_type": "code",
   "execution_count": null,
   "id": "ae301d28",
   "metadata": {},
   "outputs": [],
   "source": [
    "Q2. Create a variable of list type containing 10 elements in it, and apply pandas.Series function on the\n",
    "variable print it."
   ]
  },
  {
   "cell_type": "code",
   "execution_count": 3,
   "id": "cbced841",
   "metadata": {},
   "outputs": [],
   "source": [
    "import pandas as pd "
   ]
  },
  {
   "cell_type": "code",
   "execution_count": 5,
   "id": "1372ae7b",
   "metadata": {},
   "outputs": [],
   "source": [
    "my_list=[1,2,3,4,5,6,7,8,9,10]"
   ]
  },
  {
   "cell_type": "code",
   "execution_count": 7,
   "id": "cb3dad3a",
   "metadata": {},
   "outputs": [
    {
     "name": "stdout",
     "output_type": "stream",
     "text": [
      "0     1\n",
      "1     2\n",
      "2     3\n",
      "3     4\n",
      "4     5\n",
      "5     6\n",
      "6     7\n",
      "7     8\n",
      "8     9\n",
      "9    10\n",
      "dtype: int64\n"
     ]
    }
   ],
   "source": [
    "my_series = pd.Series(my_list)\n",
    "print(my_series)"
   ]
  },
  {
   "cell_type": "code",
   "execution_count": null,
   "id": "073604ac",
   "metadata": {},
   "outputs": [],
   "source": [
    "Q3. Create a Pandas DataFrame that contains the following data:"
   ]
  },
  {
   "cell_type": "code",
   "execution_count": 8,
   "id": "1d5c8b8a",
   "metadata": {},
   "outputs": [],
   "source": [
    "Data = {\"name\":['Alice','Bob','Clair'],\n",
    "        \"Age\":[25,30,27],\n",
    "        \"Gender\":['Female','Male','Female']}"
   ]
  },
  {
   "cell_type": "code",
   "execution_count": 12,
   "id": "7a9b1fc4",
   "metadata": {},
   "outputs": [
    {
     "name": "stdout",
     "output_type": "stream",
     "text": [
      "    name  Age  Gender\n",
      "0  Alice   25  Female\n",
      "1    Bob   30    Male\n",
      "2  Clair   27  Female\n"
     ]
    }
   ],
   "source": [
    "df = pd.DataFrame((Data))\n",
    "print(df)"
   ]
  },
  {
   "cell_type": "code",
   "execution_count": null,
   "id": "cb368092",
   "metadata": {},
   "outputs": [],
   "source": [
    "Q4. What is ‘DataFrame’ in pandas and how is it different from pandas.series? Explain with an example.\n",
    "In Pandas, a DataFrame is a two-dimensional labeled data structure, with columns of potentially different types. It is similar\n",
    "to a spreadsheet or a SQL table. Each column in a DataFrame is a pandas Series object.\n",
    "\n",
    "On the other hand, a pandas Series is a one-dimensional labeled array capable of holding data of any type. It is similar to a \n",
    "column in a spreadsheet or a single column in a SQL table.\n",
    "\n",
    "To illustrate the difference, let's consider an example of creating a DataFrame and a Series."
   ]
  },
  {
   "cell_type": "code",
   "execution_count": 13,
   "id": "3849598b",
   "metadata": {},
   "outputs": [
    {
     "name": "stdout",
     "output_type": "stream",
     "text": [
      "    Name  Age Gender\n",
      "0   John   25      M\n",
      "1   Mary   35      F\n",
      "2  Peter   42      M\n",
      "3   Lucy   28      F\n"
     ]
    }
   ],
   "source": [
    "import pandas as pd\n",
    "\n",
    "# create a dictionary of data\n",
    "data = {'Name': ['John', 'Mary', 'Peter', 'Lucy'],\n",
    "        'Age': [25, 35, 42, 28],\n",
    "        'Gender': ['M', 'F', 'M', 'F']}\n",
    "\n",
    "# create a DataFrame\n",
    "df = pd.DataFrame(data)\n",
    "\n",
    "# create a Series\n",
    "s = pd.Series([10, 20, 30, 40], name='Salary')\n",
    "\n",
    "print(df)"
   ]
  },
  {
   "cell_type": "code",
   "execution_count": 14,
   "id": "ede7cbbe",
   "metadata": {},
   "outputs": [
    {
     "name": "stdout",
     "output_type": "stream",
     "text": [
      "0    10\n",
      "1    20\n",
      "2    30\n",
      "3    40\n",
      "Name: Salary, dtype: int64\n"
     ]
    }
   ],
   "source": [
    "#And if you print the Series 's':\n",
    "print(s)"
   ]
  },
  {
   "cell_type": "code",
   "execution_count": null,
   "id": "b6dd8b92",
   "metadata": {},
   "outputs": [],
   "source": [
    "You can see that the DataFrame has three columns - Name, Age, and Gender - and four rows. Each column is a pandas Series object.\n",
    "The Series s has only one column and four rows.\n",
    "\n",
    "In summary, a DataFrame is a 2-dimensional data structure that holds multiple Series objects, while a Series is a 1-dimensional\n",
    "data structure that holds a single column of data."
   ]
  },
  {
   "cell_type": "code",
   "execution_count": null,
   "id": "85282684",
   "metadata": {},
   "outputs": [],
   "source": [
    "Q5.What are some common functions you can use to manipulate data in a Pandas DataFrame? Can you give an example of when you might\n",
    "use one of these functions?\n",
    "\n",
    "Pandas provides a wide range of functions to manipulate data in a DataFrame. Here are some common functions:\n",
    "\n",
    "1).head() and tail(): These functions allow you to view the first or last n rows of a DataFrame. You might use them to quickly \n",
    "check the structure of a DataFrame or to get a glimpse of the data.\n"
   ]
  },
  {
   "cell_type": "code",
   "execution_count": null,
   "id": "f3ea63ad",
   "metadata": {},
   "outputs": [],
   "source": [
    "import pandas as pd\n",
    "\n",
    "df = pd.read_csv('data.csv')\n",
    "print(df.head(10))  # view the first 10 rows\n"
   ]
  },
  {
   "cell_type": "code",
   "execution_count": null,
   "id": "55e5a748",
   "metadata": {},
   "outputs": [],
   "source": [
    "2).describe(): This function provides a statistical summary of a DataFrame. It includes the count, mean, standard deviation, \n",
    "minimum value, and maximum value for each column. You might use it to get an overview of the distribution of your data."
   ]
  },
  {
   "cell_type": "code",
   "execution_count": null,
   "id": "f367a373",
   "metadata": {},
   "outputs": [],
   "source": [
    "import pandas as pd\n",
    "\n",
    "df = pd.read_csv('data.csv')\n",
    "print(df.describe())  # view statistical summary\n"
   ]
  },
  {
   "cell_type": "code",
   "execution_count": null,
   "id": "22d63838",
   "metadata": {},
   "outputs": [],
   "source": [
    "groupby(): This function allows you to group rows of a DataFrame by one or more columns and perform aggregate functions on the groups. You might use it to answer questions such as \"what is the average salary for each department?\""
   ]
  },
  {
   "cell_type": "code",
   "execution_count": null,
   "id": "817eb074",
   "metadata": {},
   "outputs": [],
   "source": [
    "import pandas as pd\n",
    "\n",
    "df = pd.read_csv('data.csv')\n",
    "grouped = df.groupby('department')\n",
    "print(grouped.mean())  # calculate the mean for each department\n"
   ]
  },
  {
   "cell_type": "code",
   "execution_count": null,
   "id": "b69bf491",
   "metadata": {},
   "outputs": [],
   "source": [
    "3). read_csv():This is one of the most crucial pandas methods in Python. read_csv() function helps read a comma-separated \n",
    "values(csv) file into a Pandas DataFrame.All you need to do is mention the path of the file you want it to read. It canalso\n",
    "read files separated by delimiters other than comma, like | or tab.\n",
    "\n",
    "5).Sort_values:This function changes the order of the values in a column by sorting it. So, we can use this to show the \n",
    "dataframe as per our need by sorting ascending or descending order.\n",
    "\n",
    "6).variablename.column : it is use for  show all column name.\n",
    "    \n",
    "9).pd.read_excel(\"FileName\"): this function is help  for read excel_shite on store data.    "
   ]
  },
  {
   "cell_type": "code",
   "execution_count": null,
   "id": "fbfccc80",
   "metadata": {},
   "outputs": [],
   "source": [
    "Q6.Which of the following is mutable in nature Series, DataFrame, Panel?\n",
    "\n",
    "Ans : Both Series and DataFrame are mutable in nature, while Panel is not.\n",
    "In pandas, mutable objects can be modified after they are created, while immutable objects cannot be changed after creation. \n",
    "Series and DataFrame are both mutable because they can be modified in place, such as by adding, deleting or modifying values.\n",
    "Panel, on the other hand, is an immutable data structure in pandas, meaning that once it is created, it cannot be changed. \n",
    "Instead, any changes to a Panel will create a new Panel object. However, Panel has been deprecated since version 0.25.0, and it \n",
    "is recommended to use multi-dimensional arrays or DataFrames with hierarchical indexing instead."
   ]
  },
  {
   "cell_type": "code",
   "execution_count": null,
   "id": "691a48a5",
   "metadata": {},
   "outputs": [],
   "source": [
    "Q7.Create a DataFrame using multiple Series. Explain with an example."
   ]
  },
  {
   "cell_type": "code",
   "execution_count": 16,
   "id": "c1c6fead",
   "metadata": {},
   "outputs": [
    {
     "name": "stdout",
     "output_type": "stream",
     "text": [
      "    Fruit  Quantity  Price\n",
      "0   apple         5   0.50\n",
      "1  banana         2   0.25\n",
      "2  orange         8   0.75\n"
     ]
    }
   ],
   "source": [
    "import pandas as pd\n",
    "\n",
    "# create three Series with data\n",
    "fruits = pd.Series(['apple', 'banana', 'orange'])\n",
    "quantities = pd.Series([5, 2, 8])\n",
    "prices = pd.Series([0.50, 0.25, 0.75])\n",
    "\n",
    "# create a DataFrame by combining the Series\n",
    "fruit_data = pd.DataFrame({'Fruit': fruits, 'Quantity': quantities, 'Price': prices})\n",
    "\n",
    "# print the resulting DataFrame\n",
    "print(fruit_data)\n"
   ]
  },
  {
   "cell_type": "code",
   "execution_count": null,
   "id": "a26f0ddd",
   "metadata": {},
   "outputs": [],
   "source": [
    "This code creates three Series: fruits, quantities, and prices, which contain data about different types of fruit. The \n",
    "fruit_data DataFrame is then created by combining these Series, with the keys 'Fruit', 'Quantity', and 'Price' representing\n",
    "the column labels. The resulting DataFrame looks like this:"
   ]
  }
 ],
 "metadata": {
  "kernelspec": {
   "display_name": "Python 3 (ipykernel)",
   "language": "python",
   "name": "python3"
  },
  "language_info": {
   "codemirror_mode": {
    "name": "ipython",
    "version": 3
   },
   "file_extension": ".py",
   "mimetype": "text/x-python",
   "name": "python",
   "nbconvert_exporter": "python",
   "pygments_lexer": "ipython3",
   "version": "3.9.13"
  }
 },
 "nbformat": 4,
 "nbformat_minor": 5
}
